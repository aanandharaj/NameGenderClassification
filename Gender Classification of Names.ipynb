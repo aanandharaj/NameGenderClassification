{
 "cells": [
  {
   "cell_type": "code",
   "execution_count": 4,
   "metadata": {
    "collapsed": false
   },
   "outputs": [
    {
     "name": "stdout",
     "output_type": "stream",
     "text": [
      "0.690232056125\n",
      "0.692390717755\n",
      "0.693739881274\n",
      "0.688073394495\n",
      "0.694819212089\n"
     ]
    }
   ],
   "source": [
    "import numpy as np\n",
    "from sklearn.cross_validation import train_test_split, cross_val_score\n",
    "from sklearn.ensemble import RandomForestClassifier\n",
    "from sklearn import svm\n",
    "\n",
    "def name_count(name):\n",
    "    arr = np.zeros(52)\n",
    "    for ind, x in enumerate(name):\n",
    "        arr[ord(x)-ord('a')] += 1\n",
    "    return arr\n",
    "\n",
    "\n",
    "my_data = np.genfromtxt('names/yob2014.txt', \n",
    "                        delimiter=',', \n",
    "                        dtype=[('name','S50'), ('gender','S1'),('count','i4')],\n",
    "                        converters={0: lambda s:s.lower()})\n",
    "my_data = np.array([row for row in my_data if row[2]>=20])\n",
    "\n",
    "name_map = np.vectorize(name_count, otypes=[np.ndarray])\n",
    "Xlist = name_map(my_data['name'])\n",
    "X = np.array(Xlist.tolist())\n",
    "y = my_data['gender']\n",
    "\n",
    "for x in xrange(5):\n",
    "    Xtr, Xte, ytr, yte = train_test_split(X, y, test_size=0.33)\n",
    "    clf = RandomForestClassifier(n_estimators=100, min_samples_split=2)\n",
    "    clf.fit(Xtr, ytr)\n",
    "    print np.mean(clf.predict(Xte) == yte) \n"
   ]
  },
  {
   "cell_type": "code",
   "execution_count": 5,
   "metadata": {
    "collapsed": false
   },
   "outputs": [
    {
     "name": "stdout",
     "output_type": "stream",
     "text": [
      "0.766864543983\n",
      "0.760388559093\n",
      "0.766864543983\n",
      "0.76740420939\n",
      "0.759848893686\n"
     ]
    }
   ],
   "source": [
    "import numpy as np\n",
    "from sklearn.cross_validation import train_test_split, cross_val_score\n",
    "from sklearn.ensemble import RandomForestClassifier\n",
    "from sklearn import svm\n",
    "\n",
    "def name_count(name):\n",
    "    arr = np.zeros(52)\n",
    "    for ind, x in enumerate(name):\n",
    "        arr[ord(x)-ord('a')] += 1\n",
    "        arr[ord(x)-ord('a')+26] += ind+1\n",
    "    return arr\n",
    "\n",
    "\n",
    "my_data = np.genfromtxt('names/yob2014.txt', \n",
    "                        delimiter=',', \n",
    "                        dtype=[('name','S50'), ('gender','S1'),('count','i4')],\n",
    "                        converters={0: lambda s:s.lower()})\n",
    "my_data = np.array([row for row in my_data if row[2]>=20])\n",
    "\n",
    "name_map = np.vectorize(name_count, otypes=[np.ndarray])\n",
    "Xlist = name_map(my_data['name'])\n",
    "X = np.array(Xlist.tolist())\n",
    "\n",
    "y = my_data['gender']\n",
    "\n",
    "for x in xrange(5):\n",
    "    Xtr, Xte, ytr, yte = train_test_split(X, y, test_size=0.33)\n",
    "    clf = RandomForestClassifier(n_estimators=100, min_samples_split=2)\n",
    "    clf.fit(Xtr, ytr)\n",
    "    print np.mean(clf.predict(Xte) == yte) \n"
   ]
  },
  {
   "cell_type": "code",
   "execution_count": 9,
   "metadata": {
    "collapsed": false
   },
   "outputs": [
    {
     "name": "stdout",
     "output_type": "stream",
     "text": [
      "[ 26  30  39   0  34  37  40  43  50 390]\n",
      "0.78548300054\n",
      "[26 30 39  0 40 37 34 50 43  4]\n",
      "0.771451699946\n",
      "[26  0 30 39 34 50 37 43 40  4]\n",
      "0.783864004317\n",
      "[ 26  39   0  30  34  40  50  37  43 390]\n",
      "0.777388019428\n",
      "[ 26  39  30   0  37  50  34  40  43 390]\n",
      "0.77172153265\n"
     ]
    }
   ],
   "source": [
    "import numpy as np\n",
    "from sklearn.cross_validation import train_test_split, cross_val_score\n",
    "from sklearn.ensemble import RandomForestClassifier\n",
    "from sklearn import svm\n",
    "\n",
    "def name_count(name):\n",
    "    arr = np.zeros(52+26*26)\n",
    "    # Iterate each character\n",
    "    for ind, x in enumerate(name):\n",
    "        arr[ord(x)-ord('a')] += 1\n",
    "        arr[ord(x)-ord('a')+26] += ind+1\n",
    "    # Iterate every 2 characters\n",
    "    for x in xrange(len(name)-1):\n",
    "        ind = (ord(name[x])-ord('a'))*26 + (ord(name[x+1])-ord('a')) + 52\n",
    "        arr[ind] += 1\n",
    "    return arr\n",
    "\n",
    "my_data = np.genfromtxt('names/yob2014.txt', \n",
    "                        delimiter=',', \n",
    "                        dtype=[('name','S50'), ('gender','S1'),('count','i4')],\n",
    "                        converters={0: lambda s:s.lower()})\n",
    "my_data = np.array([row for row in my_data if row[2]>=20])\n",
    "\n",
    "name_map = np.vectorize(name_count, otypes=[np.ndarray])\n",
    "Xlist = name_map(my_data['name'])\n",
    "X = np.array(Xlist.tolist())\n",
    "\n",
    "y = my_data['gender']\n",
    "\n",
    "for x in xrange(5):\n",
    "    Xtr, Xte, ytr, yte = train_test_split(X, y, test_size=0.33)\n",
    "    clf = RandomForestClassifier(n_estimators=100, min_samples_split=2)\n",
    "    clf.fit(Xtr, ytr)\n",
    "    print np.mean(clf.predict(Xte) == yte) \n"
   ]
  },
  {
   "cell_type": "code",
   "execution_count": 31,
   "metadata": {
    "collapsed": false
   },
   "outputs": [
    {
     "name": "stdout",
     "output_type": "stream",
     "text": [
      "0.803561791689\n",
      "0.807879114949\n",
      "0.796276308689\n",
      "0.804641122504\n",
      "0.807609282245\n"
     ]
    }
   ],
   "source": [
    "import numpy as np\n",
    "from sklearn.cross_validation import train_test_split, cross_val_score\n",
    "from sklearn.ensemble import RandomForestClassifier\n",
    "from sklearn import svm\n",
    "\n",
    "def name_count(name):\n",
    "    arr = np.zeros(52+26*26+3)\n",
    "    # Iterate each character\n",
    "    for ind, x in enumerate(name):\n",
    "        arr[ord(x)-ord('a')] += 1\n",
    "        arr[ord(x)-ord('a')+26] += ind+1\n",
    "    # Iterate every 2 characters\n",
    "    for x in xrange(len(name)-1):\n",
    "        ind = (ord(name[x])-ord('a'))*26 + (ord(name[x+1])-ord('a')) + 52\n",
    "        arr[ind] += 1\n",
    "    # Last character\n",
    "    arr[-3] = ord(name[-1])-ord('a')+1\n",
    "    # Second Last character\n",
    "    arr[-2] = ord(name[-2])-ord('a')+1\n",
    "    # Length of name\n",
    "    arr[-1] = len(name)\n",
    "    return arr\n",
    "my_data = np.genfromtxt('names/yob2014.txt', \n",
    "                        delimiter=',', \n",
    "                        dtype=[('name','S50'), ('gender','S1'),('count','i4')],\n",
    "                        converters={0: lambda s:s.lower()})\n",
    "my_data = np.array([row for row in my_data if row[2]>=20])\n",
    "\n",
    "name_map = np.vectorize(name_count, otypes=[np.ndarray])\n",
    "Xlist = name_map(my_data['name'])\n",
    "X = np.array(Xlist.tolist())\n",
    "\n",
    "y = my_data['gender']\n",
    "\n",
    "for x in xrange(5):\n",
    "    Xtr, Xte, ytr, yte = train_test_split(X, y, test_size=0.33)\n",
    "    clf = RandomForestClassifier(n_estimators=100, min_samples_split=2)\n",
    "    clf.fit(Xtr, ytr)\n",
    "    print np.mean(clf.predict(Xte) == yte) \n"
   ]
  },
  {
   "cell_type": "code",
   "execution_count": 32,
   "metadata": {
    "collapsed": false
   },
   "outputs": [
    {
     "name": "stdout",
     "output_type": "stream",
     "text": [
      "[728  26 729   0  40  50  30 390  39  37]\n",
      "0.814085267134\n",
      "[728  26 729  50   0  40  37  30  34 390]\n",
      "0.821370750135\n",
      "[728  26 729  50  40   0  37  30  39 390]\n",
      "0.818402590394\n",
      "[728  26 729   0  50  40  30  37 390  39]\n",
      "0.825148407987\n",
      "[728  26 729   0  50  40  30  37  39  34]\n",
      "0.82245008095\n"
     ]
    }
   ],
   "source": [
    "import numpy as np\n",
    "from sklearn.cross_validation import train_test_split, cross_val_score\n",
    "from sklearn.ensemble import RandomForestClassifier\n",
    "from sklearn import svm\n",
    "\n",
    "def name_count(name):\n",
    "    arr = np.zeros(52+26*26+3)\n",
    "    # Iterate each character\n",
    "    for ind, x in enumerate(name):\n",
    "        arr[ord(x)-ord('a')] += 1\n",
    "        arr[ord(x)-ord('a')+26] += ind+1\n",
    "    # Iterate every 2 characters\n",
    "    for x in xrange(len(name)-1):\n",
    "        ind = (ord(name[x])-ord('a'))*26 + (ord(name[x+1])-ord('a')) + 52\n",
    "        arr[ind] += 1\n",
    "    # Last character\n",
    "    arr[-3] = ord(name[-1])-ord('a')+1\n",
    "    # Second Last character\n",
    "    arr[-2] = ord(name[-2])-ord('a')+1\n",
    "    # Length of name\n",
    "    arr[-1] = len(name)\n",
    "    return arr\n",
    "\n",
    "my_data = np.genfromtxt('names/yob2014.txt', \n",
    "                        delimiter=',', \n",
    "                        dtype=[('name','S50'), ('gender','S1'),('count','i4')],\n",
    "                        converters={0: lambda s:s.lower()})\n",
    "my_data = np.array([row for row in my_data if row[2]>=20])\n",
    "\n",
    "name_map = np.vectorize(name_count, otypes=[np.ndarray])\n",
    "Xlist = name_map(my_data['name'])\n",
    "X = np.array(Xlist.tolist())\n",
    "\n",
    "y = my_data['gender']\n",
    "\n",
    "for x in xrange(5):\n",
    "    Xtr, Xte, ytr, yte = train_test_split(X, y, test_size=0.33)\n",
    "    clf = RandomForestClassifier(n_estimators=150, min_samples_split=20)\n",
    "    clf.fit(Xtr, ytr)\n",
    "    print clf.feature_importances_.argsort()[-10:][::-1]\n",
    "    print np.mean(clf.predict(Xte) == yte) \n"
   ]
  },
  {
   "cell_type": "code",
   "execution_count": 35,
   "metadata": {
    "collapsed": false
   },
   "outputs": [
    {
     "name": "stdout",
     "output_type": "stream",
     "text": [
      "0.771451699946\n",
      "0.7536427415\n",
      "0.753912574204\n",
      "0.7536427415\n",
      "0.760658391797\n"
     ]
    }
   ],
   "source": [
    "import numpy as np\n",
    "from sklearn.cross_validation import train_test_split, cross_val_score\n",
    "from sklearn.ensemble import RandomForestClassifier\n",
    "from sklearn import svm\n",
    "\n",
    "def name_count(name):\n",
    "    arr = np.zeros(1)\n",
    "    arr[0] = ord(name[-1])-ord('a')+1\n",
    "    return arr\n",
    "\n",
    "my_data = np.genfromtxt('names/yob2014.txt', \n",
    "                        delimiter=',', \n",
    "                        dtype=[('name','S50'), ('gender','S1'),('count','i4')],\n",
    "                        converters={0: lambda s:s.lower()})\n",
    "my_data = np.array([row for row in my_data if row[2]>=20])\n",
    "\n",
    "name_map = np.vectorize(name_count, otypes=[np.ndarray])\n",
    "Xlist = name_map(my_data['name'])\n",
    "X = np.array(Xlist.tolist())\n",
    "\n",
    "y = my_data['gender']\n",
    "\n",
    "for x in xrange(5):\n",
    "    Xtr, Xte, ytr, yte = train_test_split(X, y, test_size=0.33)\n",
    "    clf = RandomForestClassifier(n_estimators=150, min_samples_split=20)\n",
    "    clf.fit(Xtr, ytr)\n",
    "    print np.mean(clf.predict(Xte) == yte) \n"
   ]
  },
  {
   "cell_type": "code",
   "execution_count": 34,
   "metadata": {
    "collapsed": false
   },
   "outputs": [
    {
     "name": "stdout",
     "output_type": "stream",
     "text": [
      "0.798165137615\n",
      "0.794117647059\n",
      "0.795736643281\n",
      "0.801133297356\n",
      "0.803561791689\n"
     ]
    }
   ],
   "source": [
    "import numpy as np\n",
    "from sklearn.cross_validation import train_test_split, cross_val_score\n",
    "from sklearn.ensemble import RandomForestClassifier\n",
    "from sklearn import svm\n",
    "\n",
    "def name_count(name):\n",
    "    arr = np.zeros(3)\n",
    "    arr[0] = ord(name[-1])-ord('a')+1\n",
    "    arr[1] = ord(name[-2])-ord('a')+1\n",
    "    # Order of a's\n",
    "    for ind, x in enumerate(name):\n",
    "        if x == 'a':\n",
    "            arr[2] += ind+1\n",
    "    \n",
    "    return arr\n",
    "\n",
    "my_data = np.genfromtxt('names/yob2014.txt', \n",
    "                        delimiter=',', \n",
    "                        dtype=[('name','S50'), ('gender','S1'),('count','i4')],\n",
    "                        converters={0: lambda s:s.lower()})\n",
    "my_data = np.array([row for row in my_data if row[2]>=20])\n",
    "\n",
    "name_map = np.vectorize(name_count, otypes=[np.ndarray])\n",
    "Xlist = name_map(my_data['name'])\n",
    "X = np.array(Xlist.tolist())\n",
    "\n",
    "y = my_data['gender']\n",
    "\n",
    "for x in xrange(5):\n",
    "    Xtr, Xte, ytr, yte = train_test_split(X, y, test_size=0.33)\n",
    "    clf = RandomForestClassifier(n_estimators=150, min_samples_split=20)\n",
    "    clf.fit(Xtr, ytr)\n",
    "    print np.mean(clf.predict(Xte) == yte) \n",
    "    \n",
    "\n"
   ]
  },
  {
   "cell_type": "code",
   "execution_count": 42,
   "metadata": {
    "collapsed": false
   },
   "outputs": [
    {
     "name": "stdout",
     "output_type": "stream",
     "text": [
      "shea F F\n",
      "lucero F M\n",
      "damiyah F F\n",
      "nitya F F\n",
      "sloan M M\n",
      "porter F M\n",
      "jalaya F F\n",
      "aubry F F\n",
      "mamie F F\n",
      "jair M M\n"
     ]
    }
   ],
   "source": [
    "def name_count(name):\n",
    "    arr = np.zeros(3)\n",
    "    arr[0] = ord(name[-1])-ord('a')+1\n",
    "    arr[1] = ord(name[-2])-ord('a')+1\n",
    "    # Order of a's\n",
    "    for ind, x in enumerate(name):\n",
    "        if x == 'a':\n",
    "            arr[2] += ind+1\n",
    "    \n",
    "    return arr\n",
    "\n",
    "my_data = np.genfromtxt('names/yob2014.txt', \n",
    "                        delimiter=',', \n",
    "                        dtype=[('name','S50'), ('gender','S1'),('count','i4')],\n",
    "                        converters={0: lambda s:s.lower()})\n",
    "my_data = np.array([row for row in my_data if row[2]>=20])\n",
    "name_map = np.vectorize(name_count, otypes=[np.ndarray])\n",
    "Xname = my_data['name']\n",
    "Xlist = name_map(Xname)\n",
    "X = np.array(Xlist.tolist())\n",
    "\n",
    "y = my_data['gender']\n",
    "\n",
    "Xtr, Xte, ytr, yte = train_test_split(X, y, test_size=0.33)\n",
    "clf = RandomForestClassifier(n_estimators=150, min_samples_split=20)\n",
    "clf.fit(Xtr, ytr)\n",
    "\n",
    "idx = np.random.choice(np.arange(len(Xlist)), 10, replace=False)\n",
    "xs = Xname[idx]\n",
    "ys = y[idx]\n",
    "pred = clf.predict(X[idx])\n",
    "\n",
    "for a,b, p in zip(xs,ys, pred):\n",
    "    print a,b, p\n"
   ]
  },
  {
   "cell_type": "code",
   "execution_count": null,
   "metadata": {
    "collapsed": true
   },
   "outputs": [],
   "source": []
  },
  {
   "cell_type": "code",
   "execution_count": null,
   "metadata": {
    "collapsed": true
   },
   "outputs": [],
   "source": []
  },
  {
   "cell_type": "code",
   "execution_count": null,
   "metadata": {
    "collapsed": true
   },
   "outputs": [],
   "source": []
  }
 ],
 "metadata": {
  "kernelspec": {
   "display_name": "Python 2",
   "language": "python",
   "name": "python2"
  },
  "language_info": {
   "codemirror_mode": {
    "name": "ipython",
    "version": 2
   },
   "file_extension": ".py",
   "mimetype": "text/x-python",
   "name": "python",
   "nbconvert_exporter": "python",
   "pygments_lexer": "ipython2",
   "version": "2.7.10"
  }
 },
 "nbformat": 4,
 "nbformat_minor": 0
}
